{
  "nbformat": 4,
  "nbformat_minor": 5,
  "metadata": {
    "kernelspec": {
      "display_name": "Python 3",
      "language": "python",
      "name": "python3"
    },
    "language_info": {
      "codemirror_mode": {
        "name": "ipython",
        "version": 3
      },
      "file_extension": ".py",
      "mimetype": "text/x-python",
      "name": "python",
      "nbconvert_exporter": "python",
      "pygments_lexer": "ipython3",
      "version": "3.8.5"
    },
    "colab": {
      "name": "Coding Exercise 5.ipynb",
      "provenance": []
    }
  },
  "cells": [
    {
      "cell_type": "markdown",
      "metadata": {
        "id": "rRIeyqNgelkb"
      },
      "source": [
        " ## Finding the Greatest Possible Combination"
      ],
      "id": "rRIeyqNgelkb"
    },
    {
      "cell_type": "markdown",
      "metadata": {
        "id": "tjuVAMYxelke"
      },
      "source": [
        "We have a function as such:\n",
        "\n",
        "```f(x1, x2, x3) = (x1^2 + x2 * x3) modulo 20 ```\n",
        "\n",
        "Given 3 list/array/vector containing possible values of x1, x2, and x3, find the maximum output possible. \n",
        "\n",
        "#### Explanation:\n",
        "\n",
        "If x1 = 2, x2 = 5, x3 = 3, then...\n",
        "\n",
        "The function's output is: (2^2 + 5 * 3) modulo 20 = (4 + 15) modulo 20 = 19 modulo 20 = 19. \n",
        "\n",
        "\n",
        "If x1 = 3, x2 = 5, x3 = 3, then...\n",
        "\n",
        "The function's output is: (3^2 + 5 * 3) modulo 20 = (9 + 15) modulo 20 = 24 modulo 20 = 4. \n",
        "\n",
        "In this case, since 19 > 4, the combination of (X1 = 2, X2 = 5, X3 = 3) gives a *greater* output value than the combination of (X1 = 3, X2 = 5, X3 = 3).\n",
        "\n",
        "#### Example:\n",
        "\n",
        "- Array X1: [2, 4]\n",
        "- Array X2: [1, 2, 3]\n",
        "- Array x3: [5, 6]\n",
        "\n",
        "How many combinations do we have? \n",
        "1. X1 = 2, X2 = 1, X3 = 5. Output = (2^2 + 1 * 5) modulo 20 = 9 modulo 20 = 9. \n",
        "2. X1 = 2, X2 = 1, X3 = 6. Output = 10\n",
        "3. X1 = 2, X2 = 2, X3 = 5. Output = 14\n",
        "4. X1 = 2, X2 = 2, X3 = 6. Output = 16\n",
        "5. X1 = 2, X2 = 3, X3 = 5. Output = 19\n",
        "6. X1 = 2, X2 = 3, X3 = 6. Output = (2^2 + 3 * 6) modulo 20 = 22 modulo 20 = 2\n",
        "7. X1 = 4, X2 = 1, X3 = 5. Output = 1\n",
        "8. X1 = 4, X2 = 1, X3 = 6. Output = 2\n",
        "9. X1 = 4, X2 = 2, X3 = 5. Output = 6\n",
        "10. X1 = 4, X2 = 2, X3 = 6. Output = 8\n",
        "11. X1 = 4, X2 = 3, X3 = 5. Output = 11\n",
        "12. X1 = 4, X2 = 3, X3 = 6. Output = 14\n",
        "\n",
        "Out of these 12 combinations, what is the maximum output of our function?\n",
        "\n",
        "The maximum output is 19, achieved with X1 = 2, X2 = 3, X3 = 5. \n",
        "\n",
        "Answer : 19\n",
        "\n",
        "(No need to specify the values of X1, X2, X3).\n"
      ],
      "id": "tjuVAMYxelke"
    },
    {
      "cell_type": "code",
      "metadata": {
        "id": "KO6NLCQ1elkg",
        "colab": {
          "base_uri": "https://localhost:8080/"
        },
        "outputId": "a379d450-19f0-4e6d-d1c9-53f8303d9abf"
      },
      "source": [
        "x1 = [2,1]\n",
        "x2 = [11,4]\n",
        "x3 = [10,32,33]\n",
        "def maximum(x1, x2, x3):\n",
        "    b = []\n",
        "    for i in x1: \n",
        "      for j in x2:\n",
        "        for k in x3:\n",
        "          b.append([i,j,k])\n",
        "    c=[]\n",
        "    for x in b:\n",
        "      d = (x[0]**2 + x[1]*x[2]) % 20\n",
        "      print(\"combination array: \",str(x), \"output: \", str(d))\n",
        "      c.append(d)   \n",
        "    return c,max(c)\n",
        "\n",
        "maximum(x1,x2,x3)"
      ],
      "id": "KO6NLCQ1elkg",
      "execution_count": null,
      "outputs": [
        {
          "output_type": "stream",
          "name": "stdout",
          "text": [
            "combination array:  [2, 11, 10] output:  14\n",
            "combination array:  [2, 11, 32] output:  16\n",
            "combination array:  [2, 11, 33] output:  7\n",
            "combination array:  [2, 4, 10] output:  4\n",
            "combination array:  [2, 4, 32] output:  12\n",
            "combination array:  [2, 4, 33] output:  16\n",
            "combination array:  [1, 11, 10] output:  11\n",
            "combination array:  [1, 11, 32] output:  13\n",
            "combination array:  [1, 11, 33] output:  4\n",
            "combination array:  [1, 4, 10] output:  1\n",
            "combination array:  [1, 4, 32] output:  9\n",
            "combination array:  [1, 4, 33] output:  13\n"
          ]
        },
        {
          "output_type": "execute_result",
          "data": {
            "text/plain": [
              "([14, 16, 7, 4, 12, 16, 11, 13, 4, 1, 9, 13], 16)"
            ]
          },
          "metadata": {},
          "execution_count": 10
        }
      ]
    },
    {
      "cell_type": "markdown",
      "metadata": {
        "id": "Oau-2Yozelkl"
      },
      "source": [
        "# Finding The Position in Repeating Series\n",
        "\n",
        "We want to know what's the value of the number in the position of p. The first number in the series is the first position.\n",
        "\n",
        "Your function will be called ```position``` and it has 3 inputs.\n",
        "\n",
        "This problem has 3 inputs:\n",
        "- The first input, (n), is the maximum number in our series\n",
        "- The second input, (r), is how many times our series will be repeated\n",
        "- The third input, (p), is the position of the desired output.\n",
        "\n",
        "Here are a few examples:\n",
        "\n",
        "- If n = 3, and r = 1, then our series will be: 1,2,3,2,1\n",
        "\n",
        "- If n = 4, and r = 1, then our series will be: 1,2,3,4,3,2,1\n",
        "\n",
        "- If n = 3, and r = 2, then our series will be: 1,2,3,2,1,2,3,2,1\n",
        "\n",
        "- If n = 4, and r = 2, then our series will be: 1,2,3,4,3,2,1,2,3,4,3,2,1\n",
        "\n",
        "- If n = 5, and r = 3, then our series will be: 1,2,3,4,5,4,3,2,1,2,3,4,5,4,3,2,1,2,3,4,5,4,3,2,1\n",
        " \n",
        "#### Example 1\n",
        "\n",
        "n = 3, r = 1, p = 4\n",
        "\n",
        "The series is : 1, 2, 3, 2, 1\n",
        "\n",
        "The 4th number of the series = suku ke - 4 dari barisan tersebut = 2.\n",
        "\n",
        "Answer = 2.\n",
        "\n",
        "#### Example 2\n",
        "\n",
        "n = 3, r = 2, p = 7\n",
        "\n",
        "The series is : 1, 2, 3, 2, 1, 2, 3, 2, 1\n",
        "\n",
        "The 7th number of the series = suku ke - 7 dari barisan tersebut = 3.\n",
        "\n",
        "Answer = 3.\n",
        "\n",
        "#### Example 3\n",
        "\n",
        "n = 4, r = 2, p = 7\n",
        "\n",
        "The series is : 1, 2, 3, 4, 3, 2, 1, 2, 3, 4, 3, 2, 1\n",
        "\n",
        "The 7th number of the series = suku ke - 7 dari barisan tersebut = 1.\n",
        "\n",
        "Answer = 1.\n"
      ],
      "id": "Oau-2Yozelkl"
    },
    {
      "cell_type": "code",
      "metadata": {
        "id": "RxbYKHhuelkv",
        "colab": {
          "base_uri": "https://localhost:8080/"
        },
        "outputId": "86129221-66ac-4de5-f5e6-827bc1ee7917"
      },
      "source": [
        "lst = []\n",
        "def position(n, r, p):\n",
        "    a = 1\n",
        "    it = 0\n",
        "    state = 'up'\n",
        "    while it != r :\n",
        "        if state == 'up' : \n",
        "            lst.append(a)\n",
        "            a += 1\n",
        "            if a == n : \n",
        "                state = 'down'\n",
        "        elif state == 'down' : \n",
        "            lst.append(a)\n",
        "            a -= 1\n",
        "            if a == 1 : \n",
        "                state = 'up'\n",
        "                it +=1\n",
        "   \n",
        "    return lst,lst[p-1]\n",
        "\n",
        "position(3,2,7) "
      ],
      "id": "RxbYKHhuelkv",
      "execution_count": null,
      "outputs": [
        {
          "output_type": "execute_result",
          "data": {
            "text/plain": [
              "([1, 2, 3, 2, 1, 2, 3, 2], 3)"
            ]
          },
          "metadata": {},
          "execution_count": 21
        }
      ]
    }
  ]
}